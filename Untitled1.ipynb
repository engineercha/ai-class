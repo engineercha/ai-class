{
  "nbformat": 4,
  "nbformat_minor": 0,
  "metadata": {
    "colab": {
      "name": "Untitled1.ipynb",
      "provenance": [],
      "collapsed_sections": [],
      "authorship_tag": "ABX9TyPg9ZafDjN6IYFD9frHD9Tm",
      "include_colab_link": true
    },
    "kernelspec": {
      "name": "python3",
      "display_name": "Python 3"
    }
  },
  "cells": [
    {
      "cell_type": "markdown",
      "metadata": {
        "id": "view-in-github",
        "colab_type": "text"
      },
      "source": [
        "<a href=\"https://colab.research.google.com/github/engineercha/ai-class/blob/master/Untitled1.ipynb\" target=\"_parent\"><img src=\"https://colab.research.google.com/assets/colab-badge.svg\" alt=\"Open In Colab\"/></a>"
      ]
    },
    {
      "cell_type": "code",
      "metadata": {
        "id": "SRAVkLapCCnu"
      },
      "source": [
        "import numpy as np\r\n",
        "import matplotlib.pyplot as plt\r\n",
        "import random"
      ],
      "execution_count": 132,
      "outputs": []
    },
    {
      "cell_type": "code",
      "metadata": {
        "colab": {
          "base_uri": "https://localhost:8080/"
        },
        "id": "vfYNFs4FCNiQ",
        "outputId": "a11fbce6-5270-4665-a5b4-244bf47d714c"
      },
      "source": [
        "while True:\r\n",
        "  a=np.array([random.randrange(1,11) for i in range(3)])\r\n",
        "  if a[0]==1: break\r\n",
        "a"
      ],
      "execution_count": 133,
      "outputs": [
        {
          "output_type": "execute_result",
          "data": {
            "text/plain": [
              "array([1, 3, 7])"
            ]
          },
          "metadata": {
            "tags": []
          },
          "execution_count": 133
        }
      ]
    },
    {
      "cell_type": "code",
      "metadata": {
        "colab": {
          "base_uri": "https://localhost:8080/"
        },
        "id": "_3zcCL3XCOvH",
        "outputId": "56cb9c7f-be99-474c-eba9-a2ed75010044"
      },
      "source": [
        "b=np.array([random.randrange(1,11) for i in range(3)])\r\n",
        "b"
      ],
      "execution_count": 134,
      "outputs": [
        {
          "output_type": "execute_result",
          "data": {
            "text/plain": [
              "array([7, 5, 1])"
            ]
          },
          "metadata": {
            "tags": []
          },
          "execution_count": 134
        }
      ]
    },
    {
      "cell_type": "code",
      "metadata": {
        "colab": {
          "base_uri": "https://localhost:8080/"
        },
        "id": "oZ8bc0tUCQ07",
        "outputId": "14462340-21f7-4f6f-958a-24b987d1edd3"
      },
      "source": [
        "for i in range(-10,10):\r\n",
        "  A=a*i\r\n",
        "  if A[0]==b[0] or A[1]==b[1]:\r\n",
        "    sol=A-b\r\n",
        "    break\r\n",
        "  elif A[0]==-b[0] or A[1]==-b[1]:\r\n",
        "    sol=A+b\r\n",
        "    break\r\n",
        "sol"
      ],
      "execution_count": 135,
      "outputs": [
        {
          "output_type": "execute_result",
          "data": {
            "text/plain": [
              "array([  0, -16, -48])"
            ]
          },
          "metadata": {
            "tags": []
          },
          "execution_count": 135
        }
      ]
    },
    {
      "cell_type": "code",
      "metadata": {
        "colab": {
          "base_uri": "https://localhost:8080/"
        },
        "id": "l7rs15GVL313",
        "outputId": "45651719-f9eb-4cab-9c20-902a3826a6ed"
      },
      "source": [
        "y=sol[2]//sol[1]\r\n",
        "y"
      ],
      "execution_count": 136,
      "outputs": [
        {
          "output_type": "execute_result",
          "data": {
            "text/plain": [
              "3"
            ]
          },
          "metadata": {
            "tags": []
          },
          "execution_count": 136
        }
      ]
    },
    {
      "cell_type": "code",
      "metadata": {
        "colab": {
          "base_uri": "https://localhost:8080/"
        },
        "id": "8-eEsGwFMeAq",
        "outputId": "72ebb1c0-c497-4380-93cb-37d9675e4aa7"
      },
      "source": [
        "x=(a[2]-a[1]*y)//a[0]\r\n",
        "x"
      ],
      "execution_count": 137,
      "outputs": [
        {
          "output_type": "execute_result",
          "data": {
            "text/plain": [
              "-2"
            ]
          },
          "metadata": {
            "tags": []
          },
          "execution_count": 137
        }
      ]
    },
    {
      "cell_type": "code",
      "metadata": {
        "colab": {
          "base_uri": "https://localhost:8080/"
        },
        "id": "wItgFsTfFk4P",
        "outputId": "9a51b5f4-8f9c-4c89-d437-6fb192b718b8"
      },
      "source": [
        "print(f'{a[0]}x + {a[1]}y = {a[2]}')\r\n",
        "print(f'{b[0]}x + {b[1]}y = {b[2]}')\r\n",
        "print(f'x={x}, y={y}')"
      ],
      "execution_count": 138,
      "outputs": [
        {
          "output_type": "stream",
          "text": [
            "1x + 3y = 7\n",
            "7x + 5y = 1\n",
            "x=-2, y=3\n"
          ],
          "name": "stdout"
        }
      ]
    }
  ]
}